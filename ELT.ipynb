{
 "cells": [
  {
   "cell_type": "code",
   "execution_count": 570,
   "metadata": {},
   "outputs": [],
   "source": [
    "import pandas as pd\n",
    "import numpy as np\n"
   ]
  },
  {
   "cell_type": "markdown",
   "metadata": {},
   "source": [
    "# ETL\n",
    "El primer paso fue extraer las tablas de la página https://indicadores.enacom.gob.ar/datos-abiertos.\n",
    "\n",
    "     Luego se abre el archivo .xlsx y se van transformando a .csv cada pestaña útil del archivo.\n",
    "     No se convirtieron todas las tablas, porque varias tenían datos redundantes entre sí, a continuación se detalla cuáles de las 15 tablas se conservan y cuáles no:\n",
    "\n",
    "* **Acc_vel_loc_sinrango** se guarda por tener las localidades de forma más detallada.\n",
    "\n",
    "* **Velocidad_sin_rango** tiene la misma información que Acceso por velocidad pero menos organizado así que solo guarda el segundo.\n",
    "\n",
    "* **Velocidad % por prov** también se guarda.\n",
    "\n",
    "* **Totales VDM** no se utiliza por tener la misma información que las tablas anteriores pero menos detallada.\n",
    "\n",
    "* **Accesos_tecnologias_localidad** se guarda.\n",
    "\n",
    "* **Total Acceso Por Tecnologia** tiene los mismos datos que **Acceso Por Tecnologia** pero en este último están más desglosados así que se guarda solo este.\n",
    "\n",
    "* **Dial-BAf** tiene los mismos datos que Totales Dial-BAf pero más desglosados así que se conserva solo el primero.\n",
    "\n",
    "* Juntando **Penetracion-hogares** y **Penetracion-población** se consigue información más detallada que **Penetracion-totales**, por lo que se descarta esta última.\n",
    "\n",
    "* **Totales accesos velocidad** tiene la misma información que las primeras tablas así que se descarta.\n",
    "\n",
    "* Y la tabla **Ingresos** se guarda por tener información importante para el negocio.\n",
    "\n",
    "      Finalmente con python se abren correctamente las tablas creando los data frames y se ponen a punto según el tipo de dato."
   ]
  },
  {
   "cell_type": "markdown",
   "metadata": {},
   "source": [
    "## Carga\n",
    "### Acc_vel_loc_sinrango = veloc_loc"
   ]
  },
  {
   "cell_type": "code",
   "execution_count": 571,
   "metadata": {},
   "outputs": [],
   "source": [
    "veloc_loc= pd.read_csv('internet\\Internet.xlsx - Acc_vel_loc_sinrangos.csv', delimiter=',')"
   ]
  },
  {
   "cell_type": "code",
   "execution_count": 572,
   "metadata": {},
   "outputs": [
    {
     "data": {
      "text/html": [
       "<div>\n",
       "<style scoped>\n",
       "    .dataframe tbody tr th:only-of-type {\n",
       "        vertical-align: middle;\n",
       "    }\n",
       "\n",
       "    .dataframe tbody tr th {\n",
       "        vertical-align: top;\n",
       "    }\n",
       "\n",
       "    .dataframe thead th {\n",
       "        text-align: right;\n",
       "    }\n",
       "</style>\n",
       "<table border=\"1\" class=\"dataframe\">\n",
       "  <thead>\n",
       "    <tr style=\"text-align: right;\">\n",
       "      <th></th>\n",
       "      <th>Partido</th>\n",
       "      <th>Localidad</th>\n",
       "      <th>link Indec</th>\n",
       "      <th>Velocidad (Mbps)</th>\n",
       "      <th>Provincia</th>\n",
       "      <th>Accesos</th>\n",
       "    </tr>\n",
       "  </thead>\n",
       "  <tbody>\n",
       "    <tr>\n",
       "      <th>0</th>\n",
       "      <td>BUENOS AIRES</td>\n",
       "      <td>25 de Mayo</td>\n",
       "      <td>25 de Mayo</td>\n",
       "      <td>6854100</td>\n",
       "      <td>0.00</td>\n",
       "      <td>1</td>\n",
       "    </tr>\n",
       "    <tr>\n",
       "      <th>1</th>\n",
       "      <td>BUENOS AIRES</td>\n",
       "      <td>25 de Mayo</td>\n",
       "      <td>25 de Mayo</td>\n",
       "      <td>6854100</td>\n",
       "      <td>0.50</td>\n",
       "      <td>2</td>\n",
       "    </tr>\n",
       "    <tr>\n",
       "      <th>2</th>\n",
       "      <td>BUENOS AIRES</td>\n",
       "      <td>25 de Mayo</td>\n",
       "      <td>25 de Mayo</td>\n",
       "      <td>6854100</td>\n",
       "      <td>0.75</td>\n",
       "      <td>19</td>\n",
       "    </tr>\n",
       "    <tr>\n",
       "      <th>3</th>\n",
       "      <td>BUENOS AIRES</td>\n",
       "      <td>25 de Mayo</td>\n",
       "      <td>25 de Mayo</td>\n",
       "      <td>6854100</td>\n",
       "      <td>3.00</td>\n",
       "      <td>85</td>\n",
       "    </tr>\n",
       "    <tr>\n",
       "      <th>4</th>\n",
       "      <td>BUENOS AIRES</td>\n",
       "      <td>25 de Mayo</td>\n",
       "      <td>25 de Mayo</td>\n",
       "      <td>6854100</td>\n",
       "      <td>3.50</td>\n",
       "      <td>145</td>\n",
       "    </tr>\n",
       "  </tbody>\n",
       "</table>\n",
       "</div>"
      ],
      "text/plain": [
       "        Partido   Localidad  link Indec Velocidad (Mbps)  Provincia Accesos\n",
       "0  BUENOS AIRES  25 de Mayo  25 de Mayo          6854100       0.00      1 \n",
       "1  BUENOS AIRES  25 de Mayo  25 de Mayo          6854100       0.50      2 \n",
       "2  BUENOS AIRES  25 de Mayo  25 de Mayo          6854100       0.75     19 \n",
       "3  BUENOS AIRES  25 de Mayo  25 de Mayo          6854100       3.00     85 \n",
       "4  BUENOS AIRES  25 de Mayo  25 de Mayo          6854100       3.50    145 "
      ]
     },
     "execution_count": 572,
     "metadata": {},
     "output_type": "execute_result"
    }
   ],
   "source": [
    "veloc_loc.head()"
   ]
  },
  {
   "cell_type": "code",
   "execution_count": 573,
   "metadata": {},
   "outputs": [],
   "source": [
    "veloc_loc.rename(columns={'Partido': 'Provincia',\n",
    "                          'Localidad': 'Partido',\n",
    "                          'link Indec': 'Localidad',\n",
    "                          'Provincia': 'Link Indec'} , inplace=True)\n",
    "\n"
   ]
  },
  {
   "cell_type": "code",
   "execution_count": 574,
   "metadata": {},
   "outputs": [
    {
     "data": {
      "text/html": [
       "<div>\n",
       "<style scoped>\n",
       "    .dataframe tbody tr th:only-of-type {\n",
       "        vertical-align: middle;\n",
       "    }\n",
       "\n",
       "    .dataframe tbody tr th {\n",
       "        vertical-align: top;\n",
       "    }\n",
       "\n",
       "    .dataframe thead th {\n",
       "        text-align: right;\n",
       "    }\n",
       "</style>\n",
       "<table border=\"1\" class=\"dataframe\">\n",
       "  <thead>\n",
       "    <tr style=\"text-align: right;\">\n",
       "      <th></th>\n",
       "      <th>Provincia</th>\n",
       "      <th>Partido</th>\n",
       "      <th>Localidad</th>\n",
       "      <th>Velocidad (Mbps)</th>\n",
       "      <th>Link Indec</th>\n",
       "      <th>Accesos</th>\n",
       "    </tr>\n",
       "  </thead>\n",
       "  <tbody>\n",
       "    <tr>\n",
       "      <th>0</th>\n",
       "      <td>BUENOS AIRES</td>\n",
       "      <td>25 de Mayo</td>\n",
       "      <td>25 de Mayo</td>\n",
       "      <td>6854100</td>\n",
       "      <td>0.00</td>\n",
       "      <td>1</td>\n",
       "    </tr>\n",
       "    <tr>\n",
       "      <th>1</th>\n",
       "      <td>BUENOS AIRES</td>\n",
       "      <td>25 de Mayo</td>\n",
       "      <td>25 de Mayo</td>\n",
       "      <td>6854100</td>\n",
       "      <td>0.50</td>\n",
       "      <td>2</td>\n",
       "    </tr>\n",
       "    <tr>\n",
       "      <th>2</th>\n",
       "      <td>BUENOS AIRES</td>\n",
       "      <td>25 de Mayo</td>\n",
       "      <td>25 de Mayo</td>\n",
       "      <td>6854100</td>\n",
       "      <td>0.75</td>\n",
       "      <td>19</td>\n",
       "    </tr>\n",
       "    <tr>\n",
       "      <th>3</th>\n",
       "      <td>BUENOS AIRES</td>\n",
       "      <td>25 de Mayo</td>\n",
       "      <td>25 de Mayo</td>\n",
       "      <td>6854100</td>\n",
       "      <td>3.00</td>\n",
       "      <td>85</td>\n",
       "    </tr>\n",
       "    <tr>\n",
       "      <th>4</th>\n",
       "      <td>BUENOS AIRES</td>\n",
       "      <td>25 de Mayo</td>\n",
       "      <td>25 de Mayo</td>\n",
       "      <td>6854100</td>\n",
       "      <td>3.50</td>\n",
       "      <td>145</td>\n",
       "    </tr>\n",
       "  </tbody>\n",
       "</table>\n",
       "</div>"
      ],
      "text/plain": [
       "      Provincia     Partido   Localidad Velocidad (Mbps)  Link Indec Accesos\n",
       "0  BUENOS AIRES  25 de Mayo  25 de Mayo          6854100        0.00      1 \n",
       "1  BUENOS AIRES  25 de Mayo  25 de Mayo          6854100        0.50      2 \n",
       "2  BUENOS AIRES  25 de Mayo  25 de Mayo          6854100        0.75     19 \n",
       "3  BUENOS AIRES  25 de Mayo  25 de Mayo          6854100        3.00     85 \n",
       "4  BUENOS AIRES  25 de Mayo  25 de Mayo          6854100        3.50    145 "
      ]
     },
     "execution_count": 574,
     "metadata": {},
     "output_type": "execute_result"
    }
   ],
   "source": [
    "veloc_loc.head()"
   ]
  },
  {
   "cell_type": "code",
   "execution_count": 575,
   "metadata": {},
   "outputs": [
    {
     "data": {
      "text/plain": [
       "Provincia            object\n",
       "Partido              object\n",
       "Localidad            object\n",
       "Velocidad (Mbps)     object\n",
       "Link Indec          float64\n",
       "Accesos              object\n",
       "dtype: object"
      ]
     },
     "execution_count": 575,
     "metadata": {},
     "output_type": "execute_result"
    }
   ],
   "source": [
    "veloc_loc.dtypes"
   ]
  },
  {
   "cell_type": "code",
   "execution_count": 576,
   "metadata": {},
   "outputs": [
    {
     "name": "stdout",
     "output_type": "stream",
     "text": [
      "<class 'pandas.core.frame.DataFrame'>\n",
      "RangeIndex: 18864 entries, 0 to 18863\n",
      "Data columns (total 6 columns):\n",
      " #   Column            Non-Null Count  Dtype  \n",
      "---  ------            --------------  -----  \n",
      " 0   Provincia         18864 non-null  object \n",
      " 1   Partido           18864 non-null  object \n",
      " 2   Localidad         18863 non-null  object \n",
      " 3   Velocidad (Mbps)  18864 non-null  object \n",
      " 4   Link Indec        18864 non-null  float64\n",
      " 5   Accesos           18857 non-null  object \n",
      "dtypes: float64(1), object(5)\n",
      "memory usage: 884.4+ KB\n",
      "None\n"
     ]
    }
   ],
   "source": [
    "print(veloc_loc.info())"
   ]
  },
  {
   "cell_type": "code",
   "execution_count": 577,
   "metadata": {},
   "outputs": [],
   "source": [
    "# Eliminar duplicados\n",
    "veloc_loc = veloc_loc.drop_duplicates()"
   ]
  },
  {
   "cell_type": "code",
   "execution_count": 578,
   "metadata": {},
   "outputs": [],
   "source": [
    "veloc_loc.fillna(0, inplace=True)"
   ]
  },
  {
   "cell_type": "code",
   "execution_count": 579,
   "metadata": {},
   "outputs": [],
   "source": [
    "veloc_loc['Velocidad (Mbps)'] = veloc_loc['Velocidad (Mbps)'].str.strip('Sin Datos').str.strip(\"'\").replace('', np.nan).astype(float)\n",
    "veloc_loc['Accesos']= veloc_loc['Accesos'].str.replace(',', '', regex=False ).astype(float)"
   ]
  },
  {
   "cell_type": "code",
   "execution_count": 580,
   "metadata": {},
   "outputs": [
    {
     "data": {
      "text/plain": [
       "Provincia            object\n",
       "Partido              object\n",
       "Localidad            object\n",
       "Velocidad (Mbps)    float64\n",
       "Link Indec          float64\n",
       "Accesos             float64\n",
       "dtype: object"
      ]
     },
     "execution_count": 580,
     "metadata": {},
     "output_type": "execute_result"
    }
   ],
   "source": [
    "veloc_loc.dtypes"
   ]
  },
  {
   "cell_type": "code",
   "execution_count": 581,
   "metadata": {},
   "outputs": [],
   "source": [
    "# Guardar el dataset procesado\n",
    "veloc_loc.to_csv('Acc_vel_loc_sinrango_procesado.csv', index=False)\n"
   ]
  },
  {
   "cell_type": "markdown",
   "metadata": {},
   "source": [
    "## Carga \n",
    "### Accesos Por Tecnologias = Accesos_tec"
   ]
  },
  {
   "cell_type": "code",
   "execution_count": 582,
   "metadata": {},
   "outputs": [],
   "source": [
    "Accesos_tec= pd.read_csv('internet\\Internet.xlsx - Accesos Por Tecnología.csv', delimiter=',')"
   ]
  },
  {
   "cell_type": "code",
   "execution_count": 583,
   "metadata": {},
   "outputs": [
    {
     "data": {
      "text/html": [
       "<div>\n",
       "<style scoped>\n",
       "    .dataframe tbody tr th:only-of-type {\n",
       "        vertical-align: middle;\n",
       "    }\n",
       "\n",
       "    .dataframe tbody tr th {\n",
       "        vertical-align: top;\n",
       "    }\n",
       "\n",
       "    .dataframe thead th {\n",
       "        text-align: right;\n",
       "    }\n",
       "</style>\n",
       "<table border=\"1\" class=\"dataframe\">\n",
       "  <thead>\n",
       "    <tr style=\"text-align: right;\">\n",
       "      <th></th>\n",
       "      <th>Año</th>\n",
       "      <th>Trimestre</th>\n",
       "      <th>Provincia</th>\n",
       "      <th>ADSL</th>\n",
       "      <th>Cablemodem</th>\n",
       "      <th>Fibra óptica</th>\n",
       "      <th>Wireless</th>\n",
       "      <th>Otros</th>\n",
       "      <th>Total</th>\n",
       "    </tr>\n",
       "  </thead>\n",
       "  <tbody>\n",
       "    <tr>\n",
       "      <th>0</th>\n",
       "      <td>2024</td>\n",
       "      <td>2</td>\n",
       "      <td>Buenos Aires</td>\n",
       "      <td>214,055</td>\n",
       "      <td>2,722,466</td>\n",
       "      <td>1,849,476</td>\n",
       "      <td>138,638</td>\n",
       "      <td>64,745</td>\n",
       "      <td>4,989,380</td>\n",
       "    </tr>\n",
       "    <tr>\n",
       "      <th>1</th>\n",
       "      <td>2024</td>\n",
       "      <td>2</td>\n",
       "      <td>Capital Federal</td>\n",
       "      <td>54,102</td>\n",
       "      <td>1,144,781</td>\n",
       "      <td>230,402</td>\n",
       "      <td>4,493</td>\n",
       "      <td>29,821</td>\n",
       "      <td>1,463,599</td>\n",
       "    </tr>\n",
       "    <tr>\n",
       "      <th>2</th>\n",
       "      <td>2024</td>\n",
       "      <td>2</td>\n",
       "      <td>Catamarca</td>\n",
       "      <td>4,951</td>\n",
       "      <td>10,303</td>\n",
       "      <td>58,355</td>\n",
       "      <td>1,384</td>\n",
       "      <td>81</td>\n",
       "      <td>75,074</td>\n",
       "    </tr>\n",
       "    <tr>\n",
       "      <th>3</th>\n",
       "      <td>2024</td>\n",
       "      <td>2</td>\n",
       "      <td>Chaco</td>\n",
       "      <td>9,448</td>\n",
       "      <td>57,935</td>\n",
       "      <td>68,944</td>\n",
       "      <td>8,407</td>\n",
       "      <td>2,358</td>\n",
       "      <td>147,092</td>\n",
       "    </tr>\n",
       "    <tr>\n",
       "      <th>4</th>\n",
       "      <td>2024</td>\n",
       "      <td>2</td>\n",
       "      <td>Chubut</td>\n",
       "      <td>25,955</td>\n",
       "      <td>80,704</td>\n",
       "      <td>26,516</td>\n",
       "      <td>31,118</td>\n",
       "      <td>9,930</td>\n",
       "      <td>174,223</td>\n",
       "    </tr>\n",
       "  </tbody>\n",
       "</table>\n",
       "</div>"
      ],
      "text/plain": [
       "    Año Trimestre        Provincia      ADSL  Cablemodem Fibra óptica  \\\n",
       "0  2024         2     Buenos Aires  214,055   2,722,466    1,849,476    \n",
       "1  2024         2  Capital Federal   54,102   1,144,781      230,402    \n",
       "2  2024         2        Catamarca    4,951      10,303       58,355    \n",
       "3  2024         2            Chaco    9,448      57,935       68,944    \n",
       "4  2024         2           Chubut   25,955      80,704       26,516    \n",
       "\n",
       "   Wireless    Otros       Total  \n",
       "0  138,638   64,745   4,989,380   \n",
       "1    4,493   29,821   1,463,599   \n",
       "2    1,384       81      75,074   \n",
       "3    8,407    2,358     147,092   \n",
       "4   31,118    9,930     174,223   "
      ]
     },
     "execution_count": 583,
     "metadata": {},
     "output_type": "execute_result"
    }
   ],
   "source": [
    "Accesos_tec.head()"
   ]
  },
  {
   "cell_type": "code",
   "execution_count": 584,
   "metadata": {},
   "outputs": [
    {
     "data": {
      "text/html": [
       "<div>\n",
       "<style scoped>\n",
       "    .dataframe tbody tr th:only-of-type {\n",
       "        vertical-align: middle;\n",
       "    }\n",
       "\n",
       "    .dataframe tbody tr th {\n",
       "        vertical-align: top;\n",
       "    }\n",
       "\n",
       "    .dataframe thead th {\n",
       "        text-align: right;\n",
       "    }\n",
       "</style>\n",
       "<table border=\"1\" class=\"dataframe\">\n",
       "  <thead>\n",
       "    <tr style=\"text-align: right;\">\n",
       "      <th></th>\n",
       "      <th>Año</th>\n",
       "      <th>Trimestre</th>\n",
       "      <th>Provincia</th>\n",
       "      <th>ADSL</th>\n",
       "      <th>Cablemodem</th>\n",
       "      <th>Fibra óptica</th>\n",
       "      <th>Wireless</th>\n",
       "      <th>Otros</th>\n",
       "      <th>Total</th>\n",
       "    </tr>\n",
       "  </thead>\n",
       "  <tbody>\n",
       "    <tr>\n",
       "      <th>1004</th>\n",
       "      <td>2014</td>\n",
       "      <td>1</td>\n",
       "      <td>Santiago Del Estero</td>\n",
       "      <td>32,567</td>\n",
       "      <td>3,598</td>\n",
       "      <td>19</td>\n",
       "      <td>915</td>\n",
       "      <td>34</td>\n",
       "      <td>37,133</td>\n",
       "    </tr>\n",
       "    <tr>\n",
       "      <th>1005</th>\n",
       "      <td>2014</td>\n",
       "      <td>1</td>\n",
       "      <td>Tierra Del Fuego</td>\n",
       "      <td>21,618</td>\n",
       "      <td>2,837</td>\n",
       "      <td>648</td>\n",
       "      <td>1</td>\n",
       "      <td>2,934</td>\n",
       "      <td>28,038</td>\n",
       "    </tr>\n",
       "    <tr>\n",
       "      <th>1006</th>\n",
       "      <td>2014</td>\n",
       "      <td>1</td>\n",
       "      <td>Tucumán</td>\n",
       "      <td>129,717</td>\n",
       "      <td>83</td>\n",
       "      <td>121</td>\n",
       "      <td>13</td>\n",
       "      <td>98</td>\n",
       "      <td>130,032</td>\n",
       "    </tr>\n",
       "    <tr>\n",
       "      <th>1007</th>\n",
       "      <td>NaN</td>\n",
       "      <td>NaN</td>\n",
       "      <td>NaN</td>\n",
       "      <td>NaN</td>\n",
       "      <td>NaN</td>\n",
       "      <td>NaN</td>\n",
       "      <td>NaN</td>\n",
       "      <td>NaN</td>\n",
       "      <td>NaN</td>\n",
       "    </tr>\n",
       "    <tr>\n",
       "      <th>1008</th>\n",
       "      <td>*</td>\n",
       "      <td>Los datos provinciales no coinciden a nivel na...</td>\n",
       "      <td>NaN</td>\n",
       "      <td>NaN</td>\n",
       "      <td>NaN</td>\n",
       "      <td>NaN</td>\n",
       "      <td>NaN</td>\n",
       "      <td>NaN</td>\n",
       "      <td>NaN</td>\n",
       "    </tr>\n",
       "  </tbody>\n",
       "</table>\n",
       "</div>"
      ],
      "text/plain": [
       "       Año                                          Trimestre  \\\n",
       "1004  2014                                                  1   \n",
       "1005  2014                                                  1   \n",
       "1006  2014                                                  1   \n",
       "1007   NaN                                                NaN   \n",
       "1008     *  Los datos provinciales no coinciden a nivel na...   \n",
       "\n",
       "                Provincia      ADSL Cablemodem Fibra óptica Wireless   Otros  \\\n",
       "1004  Santiago Del Estero   32,567      3,598           19      915      34    \n",
       "1005     Tierra Del Fuego   21,618      2,837          648        1   2,934    \n",
       "1006              Tucumán  129,717         83          121       13      98    \n",
       "1007                  NaN       NaN        NaN          NaN      NaN     NaN   \n",
       "1008                  NaN       NaN        NaN          NaN      NaN     NaN   \n",
       "\n",
       "         Total  \n",
       "1004   37,133   \n",
       "1005   28,038   \n",
       "1006  130,032   \n",
       "1007       NaN  \n",
       "1008       NaN  "
      ]
     },
     "execution_count": 584,
     "metadata": {},
     "output_type": "execute_result"
    }
   ],
   "source": [
    "Accesos_tec.tail()"
   ]
  },
  {
   "cell_type": "code",
   "execution_count": 585,
   "metadata": {},
   "outputs": [
    {
     "name": "stdout",
     "output_type": "stream",
     "text": [
      "<class 'pandas.core.frame.DataFrame'>\n",
      "RangeIndex: 1009 entries, 0 to 1008\n",
      "Data columns (total 9 columns):\n",
      " #   Column        Non-Null Count  Dtype \n",
      "---  ------        --------------  ----- \n",
      " 0   Año           1008 non-null   object\n",
      " 1   Trimestre     1008 non-null   object\n",
      " 2   Provincia     1007 non-null   object\n",
      " 3   ADSL          1007 non-null   object\n",
      " 4   Cablemodem    1007 non-null   object\n",
      " 5   Fibra óptica  1007 non-null   object\n",
      " 6   Wireless      1007 non-null   object\n",
      " 7   Otros         1007 non-null   object\n",
      " 8   Total         1007 non-null   object\n",
      "dtypes: object(9)\n",
      "memory usage: 71.1+ KB\n",
      "None\n"
     ]
    }
   ],
   "source": [
    "print(Accesos_tec.info())"
   ]
  },
  {
   "cell_type": "code",
   "execution_count": 586,
   "metadata": {},
   "outputs": [],
   "source": [
    "Accesos_tec['Wireless'] = Accesos_tec['Wireless'].str.replace(',', '.').astype(float)\n",
    "Accesos_tec['Cablemodem'] = Accesos_tec['Cablemodem'].str.replace(',', '').astype(float)\n",
    "Accesos_tec['Fibra óptica'] = Accesos_tec['Fibra óptica'].str.replace(',', '').astype(float)\n",
    "Accesos_tec['Otros'] = Accesos_tec['Otros'].str.replace(',', '').astype(float)\n",
    "Accesos_tec['ADSL'] = Accesos_tec['ADSL'].str.replace(',', '').astype(float)\n",
    "Accesos_tec['Total'] = Accesos_tec['Total'].str.replace(',', '').astype(float)\n"
   ]
  },
  {
   "cell_type": "code",
   "execution_count": 587,
   "metadata": {},
   "outputs": [],
   "source": [
    "Accesos_tec.fillna(0, inplace=True)"
   ]
  },
  {
   "cell_type": "code",
   "execution_count": 588,
   "metadata": {},
   "outputs": [],
   "source": [
    "Accesos_tec['Año'] = Accesos_tec['Año'].str.strip('*').str.strip(\"'\")\n",
    "Accesos_tec['Año'] = Accesos_tec['Año'].str.strip(' ').str.strip(\"'\")\n",
    "Accesos_tec['Año'] = pd.to_datetime(Accesos_tec['Año'], format='%Y', errors='coerce')"
   ]
  },
  {
   "cell_type": "code",
   "execution_count": 589,
   "metadata": {},
   "outputs": [],
   "source": [
    "Accesos_tec= Accesos_tec.drop([1007, 1008])"
   ]
  },
  {
   "cell_type": "code",
   "execution_count": 590,
   "metadata": {},
   "outputs": [],
   "source": [
    "Accesos_tec['Trimestre'] = Accesos_tec['Trimestre'].str.strip('*').str.strip(\"'\")\n",
    "Accesos_tec['Trimestre'] = Accesos_tec['Trimestre'].fillna(0).astype(int)"
   ]
  },
  {
   "cell_type": "code",
   "execution_count": 591,
   "metadata": {},
   "outputs": [
    {
     "name": "stdout",
     "output_type": "stream",
     "text": [
      "<class 'pandas.core.frame.DataFrame'>\n",
      "RangeIndex: 1007 entries, 0 to 1006\n",
      "Data columns (total 9 columns):\n",
      " #   Column        Non-Null Count  Dtype         \n",
      "---  ------        --------------  -----         \n",
      " 0   Año           1007 non-null   datetime64[ns]\n",
      " 1   Trimestre     1007 non-null   int32         \n",
      " 2   Provincia     1007 non-null   object        \n",
      " 3   ADSL          1007 non-null   float64       \n",
      " 4   Cablemodem    1007 non-null   float64       \n",
      " 5   Fibra óptica  1007 non-null   float64       \n",
      " 6   Wireless      1007 non-null   float64       \n",
      " 7   Otros         1007 non-null   float64       \n",
      " 8   Total         1007 non-null   float64       \n",
      "dtypes: datetime64[ns](1), float64(6), int32(1), object(1)\n",
      "memory usage: 67.0+ KB\n",
      "None\n"
     ]
    }
   ],
   "source": [
    "print(Accesos_tec.info())"
   ]
  },
  {
   "cell_type": "code",
   "execution_count": 592,
   "metadata": {},
   "outputs": [],
   "source": [
    "# Guardar el dataset procesado\n",
    "Accesos_tec.to_csv('Accesos Por Tecnología_procesado.csv', index=False)"
   ]
  },
  {
   "cell_type": "markdown",
   "metadata": {},
   "source": [
    "## Carga\n",
    "### Dial-BAf = Dial_BAf"
   ]
  },
  {
   "cell_type": "code",
   "execution_count": 593,
   "metadata": {},
   "outputs": [],
   "source": [
    "Dial_BAf= pd.read_csv('internet\\Internet.xlsx - Dial-BAf.csv', delimiter=',')"
   ]
  },
  {
   "cell_type": "code",
   "execution_count": 594,
   "metadata": {},
   "outputs": [
    {
     "data": {
      "text/html": [
       "<div>\n",
       "<style scoped>\n",
       "    .dataframe tbody tr th:only-of-type {\n",
       "        vertical-align: middle;\n",
       "    }\n",
       "\n",
       "    .dataframe tbody tr th {\n",
       "        vertical-align: top;\n",
       "    }\n",
       "\n",
       "    .dataframe thead th {\n",
       "        text-align: right;\n",
       "    }\n",
       "</style>\n",
       "<table border=\"1\" class=\"dataframe\">\n",
       "  <thead>\n",
       "    <tr style=\"text-align: right;\">\n",
       "      <th></th>\n",
       "      <th>Año</th>\n",
       "      <th>Trimestre</th>\n",
       "      <th>Provincia</th>\n",
       "      <th>Banda ancha fija</th>\n",
       "      <th>Dial up</th>\n",
       "      <th>Total</th>\n",
       "    </tr>\n",
       "  </thead>\n",
       "  <tbody>\n",
       "    <tr>\n",
       "      <th>0</th>\n",
       "      <td>2024</td>\n",
       "      <td>2</td>\n",
       "      <td>Buenos Aires</td>\n",
       "      <td>4,983,480</td>\n",
       "      <td>5,900</td>\n",
       "      <td>4,989,380</td>\n",
       "    </tr>\n",
       "    <tr>\n",
       "      <th>1</th>\n",
       "      <td>2024</td>\n",
       "      <td>2</td>\n",
       "      <td>Capital Federal</td>\n",
       "      <td>1,461,549</td>\n",
       "      <td>2,050</td>\n",
       "      <td>1,463,599</td>\n",
       "    </tr>\n",
       "    <tr>\n",
       "      <th>2</th>\n",
       "      <td>2024</td>\n",
       "      <td>2</td>\n",
       "      <td>Catamarca</td>\n",
       "      <td>75,073</td>\n",
       "      <td>1</td>\n",
       "      <td>75,074</td>\n",
       "    </tr>\n",
       "    <tr>\n",
       "      <th>3</th>\n",
       "      <td>2024</td>\n",
       "      <td>2</td>\n",
       "      <td>Chaco</td>\n",
       "      <td>147,087</td>\n",
       "      <td>5</td>\n",
       "      <td>147,092</td>\n",
       "    </tr>\n",
       "    <tr>\n",
       "      <th>4</th>\n",
       "      <td>2024</td>\n",
       "      <td>2</td>\n",
       "      <td>Chubut</td>\n",
       "      <td>173,366</td>\n",
       "      <td>857</td>\n",
       "      <td>174,223</td>\n",
       "    </tr>\n",
       "  </tbody>\n",
       "</table>\n",
       "</div>"
      ],
      "text/plain": [
       "    Año  Trimestre        Provincia Banda ancha fija Dial up      Total\n",
       "0  2024          2     Buenos Aires        4,983,480   5,900  4,989,380\n",
       "1  2024          2  Capital Federal        1,461,549   2,050  1,463,599\n",
       "2  2024          2        Catamarca           75,073       1     75,074\n",
       "3  2024          2            Chaco          147,087       5    147,092\n",
       "4  2024          2           Chubut          173,366     857    174,223"
      ]
     },
     "execution_count": 594,
     "metadata": {},
     "output_type": "execute_result"
    }
   ],
   "source": [
    "Dial_BAf.head()"
   ]
  },
  {
   "cell_type": "code",
   "execution_count": 595,
   "metadata": {},
   "outputs": [
    {
     "name": "stdout",
     "output_type": "stream",
     "text": [
      "<class 'pandas.core.frame.DataFrame'>\n",
      "RangeIndex: 1992 entries, 0 to 1991\n",
      "Data columns (total 6 columns):\n",
      " #   Column            Non-Null Count  Dtype \n",
      "---  ------            --------------  ----- \n",
      " 0   Año               1992 non-null   int64 \n",
      " 1   Trimestre         1992 non-null   int64 \n",
      " 2   Provincia         1992 non-null   object\n",
      " 3   Banda ancha fija  1992 non-null   object\n",
      " 4   Dial up           1988 non-null   object\n",
      " 5   Total             1992 non-null   object\n",
      "dtypes: int64(2), object(4)\n",
      "memory usage: 93.5+ KB\n"
     ]
    }
   ],
   "source": [
    "Dial_BAf.info()"
   ]
  },
  {
   "cell_type": "code",
   "execution_count": 596,
   "metadata": {},
   "outputs": [],
   "source": [
    "Dial_BAf['Banda ancha fija'] = Dial_BAf['Banda ancha fija'].str.replace(',', '', regex=False ).astype(float)\n",
    "Dial_BAf['Dial up'] = Dial_BAf['Dial up'].str.replace(',', '', regex=False ).astype(float)\n",
    "Dial_BAf['Total'] = Dial_BAf['Total'].str.replace(',', '', regex=False ).astype(float)"
   ]
  },
  {
   "cell_type": "code",
   "execution_count": 597,
   "metadata": {},
   "outputs": [],
   "source": [
    "Dial_BAf['Año'] = pd.to_datetime(Dial_BAf['Año'], format='%Y', errors='coerce')"
   ]
  },
  {
   "cell_type": "code",
   "execution_count": 598,
   "metadata": {},
   "outputs": [],
   "source": [
    "Dial_BAf.fillna(0, inplace=True)"
   ]
  },
  {
   "cell_type": "code",
   "execution_count": 599,
   "metadata": {},
   "outputs": [
    {
     "name": "stdout",
     "output_type": "stream",
     "text": [
      "<class 'pandas.core.frame.DataFrame'>\n",
      "RangeIndex: 1992 entries, 0 to 1991\n",
      "Data columns (total 6 columns):\n",
      " #   Column            Non-Null Count  Dtype         \n",
      "---  ------            --------------  -----         \n",
      " 0   Año               1992 non-null   datetime64[ns]\n",
      " 1   Trimestre         1992 non-null   int64         \n",
      " 2   Provincia         1992 non-null   object        \n",
      " 3   Banda ancha fija  1992 non-null   float64       \n",
      " 4   Dial up           1992 non-null   float64       \n",
      " 5   Total             1992 non-null   float64       \n",
      "dtypes: datetime64[ns](1), float64(3), int64(1), object(1)\n",
      "memory usage: 93.5+ KB\n"
     ]
    }
   ],
   "source": [
    "Dial_BAf.info()"
   ]
  },
  {
   "cell_type": "code",
   "execution_count": 600,
   "metadata": {},
   "outputs": [],
   "source": [
    "# Guardar el dataset procesado\n",
    "Dial_BAf.to_csv('Dial-BAf_procesado.csv', index=False)"
   ]
  },
  {
   "cell_type": "markdown",
   "metadata": {},
   "source": [
    "## Cargar\n",
    "### Ingresos.csv = Ingresos"
   ]
  },
  {
   "cell_type": "code",
   "execution_count": 601,
   "metadata": {},
   "outputs": [],
   "source": [
    "ingresos = pd.read_csv('internet\\Internet.xlsx - Ingresos .csv', delimiter=',')"
   ]
  },
  {
   "cell_type": "code",
   "execution_count": 602,
   "metadata": {},
   "outputs": [
    {
     "data": {
      "text/html": [
       "<div>\n",
       "<style scoped>\n",
       "    .dataframe tbody tr th:only-of-type {\n",
       "        vertical-align: middle;\n",
       "    }\n",
       "\n",
       "    .dataframe tbody tr th {\n",
       "        vertical-align: top;\n",
       "    }\n",
       "\n",
       "    .dataframe thead th {\n",
       "        text-align: right;\n",
       "    }\n",
       "</style>\n",
       "<table border=\"1\" class=\"dataframe\">\n",
       "  <thead>\n",
       "    <tr style=\"text-align: right;\">\n",
       "      <th></th>\n",
       "      <th>Año</th>\n",
       "      <th>Trimestre</th>\n",
       "      <th>Ingresos (miles de pesos)</th>\n",
       "      <th>Periodo</th>\n",
       "    </tr>\n",
       "  </thead>\n",
       "  <tbody>\n",
       "    <tr>\n",
       "      <th>0</th>\n",
       "      <td>2024</td>\n",
       "      <td>2</td>\n",
       "      <td>442,032,166.69</td>\n",
       "      <td>Abr-Jun 2024</td>\n",
       "    </tr>\n",
       "    <tr>\n",
       "      <th>1</th>\n",
       "      <td>2024</td>\n",
       "      <td>1</td>\n",
       "      <td>346,198,986.13</td>\n",
       "      <td>Ene-Mar 2024</td>\n",
       "    </tr>\n",
       "    <tr>\n",
       "      <th>2</th>\n",
       "      <td>2023</td>\n",
       "      <td>4</td>\n",
       "      <td>167,376,014.80</td>\n",
       "      <td>Oct-Dic 2023</td>\n",
       "    </tr>\n",
       "    <tr>\n",
       "      <th>3</th>\n",
       "      <td>2023</td>\n",
       "      <td>3</td>\n",
       "      <td>133,106,593.41</td>\n",
       "      <td>Jul-Sept 2023</td>\n",
       "    </tr>\n",
       "    <tr>\n",
       "      <th>4</th>\n",
       "      <td>2023</td>\n",
       "      <td>2</td>\n",
       "      <td>118,060,280.28</td>\n",
       "      <td>Jun-Mar 2023</td>\n",
       "    </tr>\n",
       "  </tbody>\n",
       "</table>\n",
       "</div>"
      ],
      "text/plain": [
       "    Año   Trimestre  Ingresos (miles de pesos)         Periodo \n",
       "0  2024            2           442,032,166.69     Abr-Jun 2024 \n",
       "1  2024            1           346,198,986.13     Ene-Mar 2024 \n",
       "2  2023            4           167,376,014.80     Oct-Dic 2023 \n",
       "3  2023            3           133,106,593.41    Jul-Sept 2023 \n",
       "4  2023            2           118,060,280.28     Jun-Mar 2023 "
      ]
     },
     "execution_count": 602,
     "metadata": {},
     "output_type": "execute_result"
    }
   ],
   "source": [
    "ingresos.head()"
   ]
  },
  {
   "cell_type": "code",
   "execution_count": 603,
   "metadata": {},
   "outputs": [
    {
     "name": "stdout",
     "output_type": "stream",
     "text": [
      "<class 'pandas.core.frame.DataFrame'>\n",
      "RangeIndex: 42 entries, 0 to 41\n",
      "Data columns (total 4 columns):\n",
      " #   Column                     Non-Null Count  Dtype \n",
      "---  ------                     --------------  ----- \n",
      " 0   Año                        42 non-null     int64 \n",
      " 1    Trimestre                 42 non-null     int64 \n",
      " 2   Ingresos (miles de pesos)  42 non-null     object\n",
      " 3    Periodo                   42 non-null     object\n",
      "dtypes: int64(2), object(2)\n",
      "memory usage: 1.4+ KB\n"
     ]
    }
   ],
   "source": [
    "ingresos.info()"
   ]
  },
  {
   "cell_type": "code",
   "execution_count": 604,
   "metadata": {},
   "outputs": [],
   "source": [
    "ingresos['Año']=pd.to_datetime(ingresos['Año'], format='%Y', errors='coerce')\n",
    "ingresos['Ingresos (miles de pesos)']=ingresos['Ingresos (miles de pesos)'].str.replace(',', '', regex=False ).astype(float)"
   ]
  },
  {
   "cell_type": "code",
   "execution_count": 605,
   "metadata": {},
   "outputs": [],
   "source": [
    "ingresos.fillna(0, inplace=True)"
   ]
  },
  {
   "cell_type": "code",
   "execution_count": 606,
   "metadata": {},
   "outputs": [
    {
     "name": "stdout",
     "output_type": "stream",
     "text": [
      "<class 'pandas.core.frame.DataFrame'>\n",
      "RangeIndex: 42 entries, 0 to 41\n",
      "Data columns (total 4 columns):\n",
      " #   Column                     Non-Null Count  Dtype         \n",
      "---  ------                     --------------  -----         \n",
      " 0   Año                        42 non-null     datetime64[ns]\n",
      " 1    Trimestre                 42 non-null     int64         \n",
      " 2   Ingresos (miles de pesos)  42 non-null     float64       \n",
      " 3    Periodo                   42 non-null     object        \n",
      "dtypes: datetime64[ns](1), float64(1), int64(1), object(1)\n",
      "memory usage: 1.4+ KB\n"
     ]
    }
   ],
   "source": [
    "ingresos.info()"
   ]
  },
  {
   "cell_type": "code",
   "execution_count": 607,
   "metadata": {},
   "outputs": [],
   "source": [
    "ingresos.to_csv('Ingresos_Procesado.csv', index=False)"
   ]
  },
  {
   "cell_type": "markdown",
   "metadata": {},
   "source": [
    "## Carga\n",
    "### Penetracion-hogares = P_hogares"
   ]
  },
  {
   "cell_type": "code",
   "execution_count": 608,
   "metadata": {},
   "outputs": [],
   "source": [
    "P_hogares=pd.read_csv('internet\\Internet.xlsx - Penetracion-hogares.csv', delimiter=',')"
   ]
  },
  {
   "cell_type": "code",
   "execution_count": 609,
   "metadata": {},
   "outputs": [
    {
     "data": {
      "text/html": [
       "<div>\n",
       "<style scoped>\n",
       "    .dataframe tbody tr th:only-of-type {\n",
       "        vertical-align: middle;\n",
       "    }\n",
       "\n",
       "    .dataframe tbody tr th {\n",
       "        vertical-align: top;\n",
       "    }\n",
       "\n",
       "    .dataframe thead th {\n",
       "        text-align: right;\n",
       "    }\n",
       "</style>\n",
       "<table border=\"1\" class=\"dataframe\">\n",
       "  <thead>\n",
       "    <tr style=\"text-align: right;\">\n",
       "      <th></th>\n",
       "      <th>Año</th>\n",
       "      <th>Trimestre</th>\n",
       "      <th>Provincia</th>\n",
       "      <th>Accesos por cada 100 hogares</th>\n",
       "    </tr>\n",
       "  </thead>\n",
       "  <tbody>\n",
       "    <tr>\n",
       "      <th>0</th>\n",
       "      <td>2024</td>\n",
       "      <td>2</td>\n",
       "      <td>Buenos Aires</td>\n",
       "      <td>79.84</td>\n",
       "    </tr>\n",
       "    <tr>\n",
       "      <th>1</th>\n",
       "      <td>2024</td>\n",
       "      <td>2</td>\n",
       "      <td>Capital Federal</td>\n",
       "      <td>116.37</td>\n",
       "    </tr>\n",
       "    <tr>\n",
       "      <th>2</th>\n",
       "      <td>2024</td>\n",
       "      <td>2</td>\n",
       "      <td>Catamarca</td>\n",
       "      <td>68.81</td>\n",
       "    </tr>\n",
       "    <tr>\n",
       "      <th>3</th>\n",
       "      <td>2024</td>\n",
       "      <td>2</td>\n",
       "      <td>Chaco</td>\n",
       "      <td>44.06</td>\n",
       "    </tr>\n",
       "    <tr>\n",
       "      <th>4</th>\n",
       "      <td>2024</td>\n",
       "      <td>2</td>\n",
       "      <td>Chubut</td>\n",
       "      <td>86.33</td>\n",
       "    </tr>\n",
       "  </tbody>\n",
       "</table>\n",
       "</div>"
      ],
      "text/plain": [
       "    Año   Trimestre          Provincia   Accesos por cada 100 hogares\n",
       "0  2024            2      Buenos Aires                          79.84\n",
       "1  2024            2   Capital Federal                         116.37\n",
       "2  2024            2         Catamarca                          68.81\n",
       "3  2024            2             Chaco                          44.06\n",
       "4  2024            2            Chubut                          86.33"
      ]
     },
     "execution_count": 609,
     "metadata": {},
     "output_type": "execute_result"
    }
   ],
   "source": [
    "P_hogares.head()"
   ]
  },
  {
   "cell_type": "code",
   "execution_count": 610,
   "metadata": {},
   "outputs": [
    {
     "name": "stdout",
     "output_type": "stream",
     "text": [
      "<class 'pandas.core.frame.DataFrame'>\n",
      "RangeIndex: 1000 entries, 0 to 999\n",
      "Data columns (total 4 columns):\n",
      " #   Column                        Non-Null Count  Dtype  \n",
      "---  ------                        --------------  -----  \n",
      " 0   Año                           1000 non-null   int64  \n",
      " 1    Trimestre                    1000 non-null   int64  \n",
      " 2    Provincia                    1000 non-null   object \n",
      " 3   Accesos por cada 100 hogares  1000 non-null   float64\n",
      "dtypes: float64(1), int64(2), object(1)\n",
      "memory usage: 31.4+ KB\n"
     ]
    }
   ],
   "source": [
    "P_hogares.info()"
   ]
  },
  {
   "cell_type": "code",
   "execution_count": 611,
   "metadata": {},
   "outputs": [],
   "source": [
    "P_hogares['Año']= pd.to_datetime(P_hogares['Año'], format='%Y', errors='coerce')"
   ]
  },
  {
   "cell_type": "code",
   "execution_count": 612,
   "metadata": {},
   "outputs": [],
   "source": [
    "P_hogares.fillna(0, inplace=True)"
   ]
  },
  {
   "cell_type": "code",
   "execution_count": 613,
   "metadata": {},
   "outputs": [
    {
     "name": "stdout",
     "output_type": "stream",
     "text": [
      "<class 'pandas.core.frame.DataFrame'>\n",
      "RangeIndex: 1000 entries, 0 to 999\n",
      "Data columns (total 4 columns):\n",
      " #   Column                        Non-Null Count  Dtype         \n",
      "---  ------                        --------------  -----         \n",
      " 0   Año                           1000 non-null   datetime64[ns]\n",
      " 1    Trimestre                    1000 non-null   int64         \n",
      " 2    Provincia                    1000 non-null   object        \n",
      " 3   Accesos por cada 100 hogares  1000 non-null   float64       \n",
      "dtypes: datetime64[ns](1), float64(1), int64(1), object(1)\n",
      "memory usage: 31.4+ KB\n"
     ]
    }
   ],
   "source": [
    "P_hogares.info()"
   ]
  },
  {
   "cell_type": "code",
   "execution_count": 614,
   "metadata": {},
   "outputs": [],
   "source": [
    "P_hogares.to_csv('Penetracion-hogares_procesado.csv', index=False)"
   ]
  },
  {
   "cell_type": "markdown",
   "metadata": {},
   "source": [
    "## carga\n",
    "### Penetracion-poblacion = p_poblacion"
   ]
  },
  {
   "cell_type": "code",
   "execution_count": 615,
   "metadata": {},
   "outputs": [],
   "source": [
    "p_poblacion = pd.read_csv('internet\\Internet.xlsx - Penetración-poblacion.csv', delimiter=',')"
   ]
  },
  {
   "cell_type": "code",
   "execution_count": 616,
   "metadata": {},
   "outputs": [
    {
     "data": {
      "text/html": [
       "<div>\n",
       "<style scoped>\n",
       "    .dataframe tbody tr th:only-of-type {\n",
       "        vertical-align: middle;\n",
       "    }\n",
       "\n",
       "    .dataframe tbody tr th {\n",
       "        vertical-align: top;\n",
       "    }\n",
       "\n",
       "    .dataframe thead th {\n",
       "        text-align: right;\n",
       "    }\n",
       "</style>\n",
       "<table border=\"1\" class=\"dataframe\">\n",
       "  <thead>\n",
       "    <tr style=\"text-align: right;\">\n",
       "      <th></th>\n",
       "      <th>Año</th>\n",
       "      <th>Trimestre</th>\n",
       "      <th>Provincia</th>\n",
       "      <th>Accesos por cada 100 hab</th>\n",
       "    </tr>\n",
       "  </thead>\n",
       "  <tbody>\n",
       "    <tr>\n",
       "      <th>0</th>\n",
       "      <td>2024</td>\n",
       "      <td>2</td>\n",
       "      <td>Buenos Aires</td>\n",
       "      <td>27.43</td>\n",
       "    </tr>\n",
       "    <tr>\n",
       "      <th>1</th>\n",
       "      <td>2024</td>\n",
       "      <td>2</td>\n",
       "      <td>Capital Federal</td>\n",
       "      <td>47.44</td>\n",
       "    </tr>\n",
       "    <tr>\n",
       "      <th>2</th>\n",
       "      <td>2024</td>\n",
       "      <td>2</td>\n",
       "      <td>Catamarca</td>\n",
       "      <td>17.50</td>\n",
       "    </tr>\n",
       "    <tr>\n",
       "      <th>3</th>\n",
       "      <td>2024</td>\n",
       "      <td>2</td>\n",
       "      <td>Chaco</td>\n",
       "      <td>11.78</td>\n",
       "    </tr>\n",
       "    <tr>\n",
       "      <th>4</th>\n",
       "      <td>2024</td>\n",
       "      <td>2</td>\n",
       "      <td>Chubut</td>\n",
       "      <td>26.46</td>\n",
       "    </tr>\n",
       "  </tbody>\n",
       "</table>\n",
       "</div>"
      ],
      "text/plain": [
       "    Año   Trimestre          Provincia   Accesos por cada 100 hab\n",
       "0  2024            2      Buenos Aires                      27.43\n",
       "1  2024            2   Capital Federal                      47.44\n",
       "2  2024            2         Catamarca                      17.50\n",
       "3  2024            2             Chaco                      11.78\n",
       "4  2024            2            Chubut                      26.46"
      ]
     },
     "execution_count": 616,
     "metadata": {},
     "output_type": "execute_result"
    }
   ],
   "source": [
    "p_poblacion.head()"
   ]
  },
  {
   "cell_type": "code",
   "execution_count": 617,
   "metadata": {},
   "outputs": [],
   "source": [
    "p_poblacion.fillna(0, inplace=True)"
   ]
  },
  {
   "cell_type": "code",
   "execution_count": 618,
   "metadata": {},
   "outputs": [
    {
     "name": "stdout",
     "output_type": "stream",
     "text": [
      "<class 'pandas.core.frame.DataFrame'>\n",
      "RangeIndex: 1000 entries, 0 to 999\n",
      "Data columns (total 4 columns):\n",
      " #   Column                    Non-Null Count  Dtype  \n",
      "---  ------                    --------------  -----  \n",
      " 0   Año                       1000 non-null   int64  \n",
      " 1    Trimestre                1000 non-null   int64  \n",
      " 2    Provincia                1000 non-null   object \n",
      " 3   Accesos por cada 100 hab  1000 non-null   float64\n",
      "dtypes: float64(1), int64(2), object(1)\n",
      "memory usage: 31.4+ KB\n"
     ]
    }
   ],
   "source": [
    "p_poblacion.info()"
   ]
  },
  {
   "cell_type": "code",
   "execution_count": 619,
   "metadata": {},
   "outputs": [],
   "source": [
    "p_poblacion['Año']=pd.to_datetime(p_poblacion['Año'], format='%Y', errors='coerce')"
   ]
  },
  {
   "cell_type": "code",
   "execution_count": 620,
   "metadata": {},
   "outputs": [
    {
     "name": "stdout",
     "output_type": "stream",
     "text": [
      "<class 'pandas.core.frame.DataFrame'>\n",
      "RangeIndex: 1000 entries, 0 to 999\n",
      "Data columns (total 4 columns):\n",
      " #   Column                    Non-Null Count  Dtype         \n",
      "---  ------                    --------------  -----         \n",
      " 0   Año                       1000 non-null   datetime64[ns]\n",
      " 1    Trimestre                1000 non-null   int64         \n",
      " 2    Provincia                1000 non-null   object        \n",
      " 3   Accesos por cada 100 hab  1000 non-null   float64       \n",
      "dtypes: datetime64[ns](1), float64(1), int64(1), object(1)\n",
      "memory usage: 31.4+ KB\n"
     ]
    }
   ],
   "source": [
    "p_poblacion.info()"
   ]
  },
  {
   "cell_type": "code",
   "execution_count": 621,
   "metadata": {},
   "outputs": [],
   "source": [
    "p_poblacion.to_csv('Penetracion-poblacion_procesado.csv', index=False)"
   ]
  },
  {
   "cell_type": "markdown",
   "metadata": {},
   "source": [
    "## Carga\n",
    "### Totales VMD = tot_vmd"
   ]
  },
  {
   "cell_type": "code",
   "execution_count": 622,
   "metadata": {},
   "outputs": [],
   "source": [
    "tot_vmd=pd.read_csv('internet\\Internet.xlsx - Totales VMD.csv', delimiter=',')"
   ]
  },
  {
   "cell_type": "code",
   "execution_count": 623,
   "metadata": {},
   "outputs": [
    {
     "name": "stdout",
     "output_type": "stream",
     "text": [
      "<class 'pandas.core.frame.DataFrame'>\n",
      "RangeIndex: 42 entries, 0 to 41\n",
      "Data columns (total 4 columns):\n",
      " #   Column                  Non-Null Count  Dtype  \n",
      "---  ------                  --------------  -----  \n",
      " 0   Año                     42 non-null     int64  \n",
      " 1   Trimestre               42 non-null     int64  \n",
      " 2   Mbps (Media de bajada)  42 non-null     float64\n",
      " 3   Trimestre.1             42 non-null     object \n",
      "dtypes: float64(1), int64(2), object(1)\n",
      "memory usage: 1.4+ KB\n"
     ]
    }
   ],
   "source": [
    "tot_vmd.info()"
   ]
  },
  {
   "cell_type": "code",
   "execution_count": 624,
   "metadata": {},
   "outputs": [],
   "source": [
    "tot_vmd['Año']=pd.to_datetime(tot_vmd['Año'], format='%Y', errors='coerce')\n",
    "tot_vmd.rename(columns={'Trimestre.1': 'Periodo'}, inplace=True)"
   ]
  },
  {
   "cell_type": "code",
   "execution_count": 625,
   "metadata": {},
   "outputs": [],
   "source": [
    "tot_vmd.fillna(0, inplace=True)"
   ]
  },
  {
   "cell_type": "code",
   "execution_count": 626,
   "metadata": {},
   "outputs": [
    {
     "data": {
      "text/html": [
       "<div>\n",
       "<style scoped>\n",
       "    .dataframe tbody tr th:only-of-type {\n",
       "        vertical-align: middle;\n",
       "    }\n",
       "\n",
       "    .dataframe tbody tr th {\n",
       "        vertical-align: top;\n",
       "    }\n",
       "\n",
       "    .dataframe thead th {\n",
       "        text-align: right;\n",
       "    }\n",
       "</style>\n",
       "<table border=\"1\" class=\"dataframe\">\n",
       "  <thead>\n",
       "    <tr style=\"text-align: right;\">\n",
       "      <th></th>\n",
       "      <th>Año</th>\n",
       "      <th>Trimestre</th>\n",
       "      <th>Mbps (Media de bajada)</th>\n",
       "      <th>Periodo</th>\n",
       "    </tr>\n",
       "  </thead>\n",
       "  <tbody>\n",
       "    <tr>\n",
       "      <th>0</th>\n",
       "      <td>2024-01-01</td>\n",
       "      <td>2</td>\n",
       "      <td>139.25</td>\n",
       "      <td>Abr-Jun 2024</td>\n",
       "    </tr>\n",
       "    <tr>\n",
       "      <th>1</th>\n",
       "      <td>2024-01-01</td>\n",
       "      <td>1</td>\n",
       "      <td>139.15</td>\n",
       "      <td>Ene-Mar 2024</td>\n",
       "    </tr>\n",
       "    <tr>\n",
       "      <th>2</th>\n",
       "      <td>2023-01-01</td>\n",
       "      <td>4</td>\n",
       "      <td>139.04</td>\n",
       "      <td>Oct-Dic 2023</td>\n",
       "    </tr>\n",
       "    <tr>\n",
       "      <th>3</th>\n",
       "      <td>2023-01-01</td>\n",
       "      <td>3</td>\n",
       "      <td>129.67</td>\n",
       "      <td>Jul-Sept 2023</td>\n",
       "    </tr>\n",
       "    <tr>\n",
       "      <th>4</th>\n",
       "      <td>2023-01-01</td>\n",
       "      <td>2</td>\n",
       "      <td>123.95</td>\n",
       "      <td>Abr-Jun 2023</td>\n",
       "    </tr>\n",
       "  </tbody>\n",
       "</table>\n",
       "</div>"
      ],
      "text/plain": [
       "         Año  Trimestre  Mbps (Media de bajada)        Periodo\n",
       "0 2024-01-01          2                  139.25   Abr-Jun 2024\n",
       "1 2024-01-01          1                  139.15   Ene-Mar 2024\n",
       "2 2023-01-01          4                  139.04   Oct-Dic 2023\n",
       "3 2023-01-01          3                  129.67  Jul-Sept 2023\n",
       "4 2023-01-01          2                  123.95   Abr-Jun 2023"
      ]
     },
     "execution_count": 626,
     "metadata": {},
     "output_type": "execute_result"
    }
   ],
   "source": [
    "tot_vmd.head()"
   ]
  },
  {
   "cell_type": "code",
   "execution_count": 627,
   "metadata": {},
   "outputs": [],
   "source": [
    "tot_vmd.to_csv('Totrales VMD_procesado.csv', index=False)"
   ]
  },
  {
   "cell_type": "markdown",
   "metadata": {},
   "source": [
    "## Carga\n",
    "### Velocidad % por prov = vel_prov"
   ]
  },
  {
   "cell_type": "code",
   "execution_count": 628,
   "metadata": {},
   "outputs": [],
   "source": [
    "vel_prov=pd.read_csv('internet\\Internet.xlsx - Velocidad % por prov.csv', delimiter=',')"
   ]
  },
  {
   "cell_type": "code",
   "execution_count": 629,
   "metadata": {},
   "outputs": [],
   "source": [
    "vel_prov.fillna(0, inplace=True)"
   ]
  },
  {
   "cell_type": "code",
   "execution_count": 630,
   "metadata": {},
   "outputs": [
    {
     "name": "stdout",
     "output_type": "stream",
     "text": [
      "<class 'pandas.core.frame.DataFrame'>\n",
      "RangeIndex: 1008 entries, 0 to 1007\n",
      "Data columns (total 4 columns):\n",
      " #   Column                  Non-Null Count  Dtype  \n",
      "---  ------                  --------------  -----  \n",
      " 0   Año                     1008 non-null   int64  \n",
      " 1   Trimestre               1008 non-null   int64  \n",
      " 2   Provincia               1008 non-null   object \n",
      " 3   Mbps (Media de bajada)  1008 non-null   float64\n",
      "dtypes: float64(1), int64(2), object(1)\n",
      "memory usage: 31.6+ KB\n"
     ]
    }
   ],
   "source": [
    "vel_prov.info()"
   ]
  },
  {
   "cell_type": "code",
   "execution_count": 631,
   "metadata": {},
   "outputs": [],
   "source": [
    "vel_prov['Año']=pd.to_datetime(vel_prov['Año'], format='%Y', errors='coerce')"
   ]
  },
  {
   "cell_type": "code",
   "execution_count": 632,
   "metadata": {},
   "outputs": [
    {
     "data": {
      "text/html": [
       "<div>\n",
       "<style scoped>\n",
       "    .dataframe tbody tr th:only-of-type {\n",
       "        vertical-align: middle;\n",
       "    }\n",
       "\n",
       "    .dataframe tbody tr th {\n",
       "        vertical-align: top;\n",
       "    }\n",
       "\n",
       "    .dataframe thead th {\n",
       "        text-align: right;\n",
       "    }\n",
       "</style>\n",
       "<table border=\"1\" class=\"dataframe\">\n",
       "  <thead>\n",
       "    <tr style=\"text-align: right;\">\n",
       "      <th></th>\n",
       "      <th>Año</th>\n",
       "      <th>Trimestre</th>\n",
       "      <th>Provincia</th>\n",
       "      <th>Mbps (Media de bajada)</th>\n",
       "    </tr>\n",
       "  </thead>\n",
       "  <tbody>\n",
       "    <tr>\n",
       "      <th>0</th>\n",
       "      <td>2024-01-01</td>\n",
       "      <td>2</td>\n",
       "      <td>Buenos Aires</td>\n",
       "      <td>157.41</td>\n",
       "    </tr>\n",
       "    <tr>\n",
       "      <th>1</th>\n",
       "      <td>2024-01-01</td>\n",
       "      <td>2</td>\n",
       "      <td>Capital Federal</td>\n",
       "      <td>233.01</td>\n",
       "    </tr>\n",
       "    <tr>\n",
       "      <th>2</th>\n",
       "      <td>2024-01-01</td>\n",
       "      <td>2</td>\n",
       "      <td>Catamarca</td>\n",
       "      <td>97.38</td>\n",
       "    </tr>\n",
       "    <tr>\n",
       "      <th>3</th>\n",
       "      <td>2024-01-01</td>\n",
       "      <td>2</td>\n",
       "      <td>Chaco</td>\n",
       "      <td>107.76</td>\n",
       "    </tr>\n",
       "    <tr>\n",
       "      <th>4</th>\n",
       "      <td>2024-01-01</td>\n",
       "      <td>2</td>\n",
       "      <td>Chubut</td>\n",
       "      <td>21.67</td>\n",
       "    </tr>\n",
       "  </tbody>\n",
       "</table>\n",
       "</div>"
      ],
      "text/plain": [
       "         Año  Trimestre        Provincia  Mbps (Media de bajada)\n",
       "0 2024-01-01          2     Buenos Aires                  157.41\n",
       "1 2024-01-01          2  Capital Federal                  233.01\n",
       "2 2024-01-01          2        Catamarca                   97.38\n",
       "3 2024-01-01          2            Chaco                  107.76\n",
       "4 2024-01-01          2           Chubut                   21.67"
      ]
     },
     "execution_count": 632,
     "metadata": {},
     "output_type": "execute_result"
    }
   ],
   "source": [
    "vel_prov.head()"
   ]
  },
  {
   "cell_type": "code",
   "execution_count": 633,
   "metadata": {},
   "outputs": [],
   "source": [
    "vel_prov.to_csv('Velocidad % por prov_procesado.csv', index=False)"
   ]
  },
  {
   "cell_type": "markdown",
   "metadata": {},
   "source": [
    "## Carga\n",
    "### Velocidad_sin_rangos = Vel_sin_rangos"
   ]
  },
  {
   "cell_type": "code",
   "execution_count": 634,
   "metadata": {},
   "outputs": [],
   "source": [
    "Vel_sin_rangos=pd.read_csv('internet\\Internet.xlsx - Velocidad_sin_Rangos.csv', delimiter=',')"
   ]
  },
  {
   "cell_type": "code",
   "execution_count": 635,
   "metadata": {},
   "outputs": [
    {
     "name": "stdout",
     "output_type": "stream",
     "text": [
      "<class 'pandas.core.frame.DataFrame'>\n",
      "RangeIndex: 18884 entries, 0 to 18883\n",
      "Data columns (total 5 columns):\n",
      " #   Column       Non-Null Count  Dtype \n",
      "---  ------       --------------  ----- \n",
      " 0   Año          18884 non-null  int64 \n",
      " 1   Trimestre    18884 non-null  int64 \n",
      " 2   Provincia    18884 non-null  object\n",
      " 3    Velocidad   18874 non-null  object\n",
      " 4   Accesos      18884 non-null  object\n",
      "dtypes: int64(2), object(3)\n",
      "memory usage: 737.8+ KB\n"
     ]
    }
   ],
   "source": [
    "Vel_sin_rangos.info()"
   ]
  },
  {
   "cell_type": "code",
   "execution_count": 636,
   "metadata": {},
   "outputs": [],
   "source": [
    "Vel_sin_rangos.fillna(0, inplace=True)"
   ]
  },
  {
   "cell_type": "code",
   "execution_count": 637,
   "metadata": {},
   "outputs": [],
   "source": [
    "Vel_sin_rangos['Año']=pd.to_datetime(Vel_sin_rangos['Año'], format='%Y', errors='coerce')\n",
    "Vel_sin_rangos[' Velocidad '] = Vel_sin_rangos[' Velocidad '].str.replace(',', '', regex=False ).str.strip(' - ').str.strip(\"'\").replace('', np.nan).astype(float)\n",
    "Vel_sin_rangos['Accesos']=Vel_sin_rangos['Accesos'].str.replace(',', '', regex=False ).astype(float)"
   ]
  },
  {
   "cell_type": "code",
   "execution_count": 638,
   "metadata": {},
   "outputs": [
    {
     "name": "stdout",
     "output_type": "stream",
     "text": [
      "<class 'pandas.core.frame.DataFrame'>\n",
      "RangeIndex: 18884 entries, 0 to 18883\n",
      "Data columns (total 5 columns):\n",
      " #   Column       Non-Null Count  Dtype         \n",
      "---  ------       --------------  -----         \n",
      " 0   Año          18884 non-null  datetime64[ns]\n",
      " 1   Trimestre    18884 non-null  int64         \n",
      " 2   Provincia    18884 non-null  object        \n",
      " 3    Velocidad   18858 non-null  float64       \n",
      " 4   Accesos      18884 non-null  float64       \n",
      "dtypes: datetime64[ns](1), float64(2), int64(1), object(1)\n",
      "memory usage: 737.8+ KB\n"
     ]
    }
   ],
   "source": [
    "Vel_sin_rangos.info()"
   ]
  },
  {
   "cell_type": "code",
   "execution_count": 639,
   "metadata": {},
   "outputs": [
    {
     "data": {
      "text/html": [
       "<div>\n",
       "<style scoped>\n",
       "    .dataframe tbody tr th:only-of-type {\n",
       "        vertical-align: middle;\n",
       "    }\n",
       "\n",
       "    .dataframe tbody tr th {\n",
       "        vertical-align: top;\n",
       "    }\n",
       "\n",
       "    .dataframe thead th {\n",
       "        text-align: right;\n",
       "    }\n",
       "</style>\n",
       "<table border=\"1\" class=\"dataframe\">\n",
       "  <thead>\n",
       "    <tr style=\"text-align: right;\">\n",
       "      <th></th>\n",
       "      <th>Año</th>\n",
       "      <th>Trimestre</th>\n",
       "      <th>Provincia</th>\n",
       "      <th>Velocidad</th>\n",
       "      <th>Accesos</th>\n",
       "    </tr>\n",
       "  </thead>\n",
       "  <tbody>\n",
       "    <tr>\n",
       "      <th>0</th>\n",
       "      <td>2024-01-01</td>\n",
       "      <td>2</td>\n",
       "      <td>BUENOS AIRES</td>\n",
       "      <td>75.0</td>\n",
       "      <td>1062.0</td>\n",
       "    </tr>\n",
       "    <tr>\n",
       "      <th>1</th>\n",
       "      <td>2024-01-01</td>\n",
       "      <td>2</td>\n",
       "      <td>BUENOS AIRES</td>\n",
       "      <td>59.0</td>\n",
       "      <td>59.0</td>\n",
       "    </tr>\n",
       "    <tr>\n",
       "      <th>2</th>\n",
       "      <td>2024-01-01</td>\n",
       "      <td>2</td>\n",
       "      <td>BUENOS AIRES</td>\n",
       "      <td>480.0</td>\n",
       "      <td>5.0</td>\n",
       "    </tr>\n",
       "    <tr>\n",
       "      <th>3</th>\n",
       "      <td>2024-01-01</td>\n",
       "      <td>2</td>\n",
       "      <td>BUENOS AIRES</td>\n",
       "      <td>4.0</td>\n",
       "      <td>41735.0</td>\n",
       "    </tr>\n",
       "    <tr>\n",
       "      <th>4</th>\n",
       "      <td>2024-01-01</td>\n",
       "      <td>2</td>\n",
       "      <td>BUENOS AIRES</td>\n",
       "      <td>18.0</td>\n",
       "      <td>1042.0</td>\n",
       "    </tr>\n",
       "  </tbody>\n",
       "</table>\n",
       "</div>"
      ],
      "text/plain": [
       "         Año  Trimestre     Provincia   Velocidad   Accesos\n",
       "0 2024-01-01          2  BUENOS AIRES         75.0   1062.0\n",
       "1 2024-01-01          2  BUENOS AIRES         59.0     59.0\n",
       "2 2024-01-01          2  BUENOS AIRES        480.0      5.0\n",
       "3 2024-01-01          2  BUENOS AIRES          4.0  41735.0\n",
       "4 2024-01-01          2  BUENOS AIRES         18.0   1042.0"
      ]
     },
     "execution_count": 639,
     "metadata": {},
     "output_type": "execute_result"
    }
   ],
   "source": [
    "Vel_sin_rangos.head()"
   ]
  },
  {
   "cell_type": "code",
   "execution_count": 640,
   "metadata": {},
   "outputs": [],
   "source": [
    "Vel_sin_rangos.to_csv('Velocidad_sin_Rangos_procesado.csv', index=False)"
   ]
  }
 ],
 "metadata": {
  "kernelspec": {
   "display_name": "Python 3",
   "language": "python",
   "name": "python3"
  },
  "language_info": {
   "codemirror_mode": {
    "name": "ipython",
    "version": 3
   },
   "file_extension": ".py",
   "mimetype": "text/x-python",
   "name": "python",
   "nbconvert_exporter": "python",
   "pygments_lexer": "ipython3",
   "version": "3.12.2"
  }
 },
 "nbformat": 4,
 "nbformat_minor": 2
}
